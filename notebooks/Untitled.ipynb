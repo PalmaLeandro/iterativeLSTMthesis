{
 "cells": [
  {
   "cell_type": "markdown",
   "metadata": {},
   "source": [
    "## Recopilacion parcial de resultados"
   ]
  },
  {
   "cell_type": "code",
   "execution_count": 4,
   "metadata": {
    "collapsed": true
   },
   "outputs": [],
   "source": [
    "import pandas as pd"
   ]
  },
  {
   "cell_type": "code",
   "execution_count": 2,
   "metadata": {
    "collapsed": true
   },
   "outputs": [],
   "source": [
    "results_df = pd.DataFrame([{'Size': 'small', \n",
    "                            'Training': '40 epochs', \n",
    "                            'Learning rate scheme': 'decay by 0.8 after 14 epochs',\n",
    "                            'Units': 200,\n",
    "                            'Layers': 1,\n",
    "                            'Iterations': 1,\n",
    "                            'Perplexity': 95.56},\n",
    "                          {'Size': 'small', \n",
    "                            'Training': '40 epochs', \n",
    "                            'Learning rate scheme': 'decay by 0.8 after 14 epochs',\n",
    "                            'Units': 200,\n",
    "                            'Layers': 1,\n",
    "                            'Iterations': 2,\n",
    "                            'Perplexity': 89.51},\n",
    "                          {'Size': 'small', \n",
    "                            'Training': '40 epochs', \n",
    "                            'Learning rate scheme': 'decay by 0.8 after 14 epochs',\n",
    "                            'Units': 200,\n",
    "                            'Layers': 1,\n",
    "                            'Iterations': 3,\n",
    "                            'Perplexity': 95.56},\n",
    "                          {'Size': 'small', \n",
    "                            'Training': '40 epochs', \n",
    "                            'Learning rate scheme': 'decay by 0.8 after 14 epochs',\n",
    "                            'Units': 200,\n",
    "                            'Layers': 1,\n",
    "                            'Iterations': 4,\n",
    "                            'Perplexity': 88.90},\n",
    "                          {'Size': 'small', \n",
    "                            'Training': '40 epochs', \n",
    "                            'Learning rate scheme': 'decay by 0.8 after 14 epochs',\n",
    "                            'Units': 200,\n",
    "                            'Layers': 1,\n",
    "                            'Iterations': 5,\n",
    "                            'Perplexity': 95.56},\n",
    "                          {'Size': 'small', \n",
    "                            'Training': '40 epochs', \n",
    "                            'Learning rate scheme': 'decay by 0.8 after 14 epochs',\n",
    "                            'Units': 200,\n",
    "                            'Layers': 1,\n",
    "                            'Iterations': 6,\n",
    "                            'Perplexity': 88.14},\n",
    "                          {'Size': 'small', \n",
    "                            'Training': '40 epochs', \n",
    "                            'Learning rate scheme': 'decay by 0.8 after 14 epochs',\n",
    "                            'Units': 200,\n",
    "                            'Layers': 1,\n",
    "                            'Iterations': 7,\n",
    "                            'Perplexity': 95.56},\n",
    "                          {'Size': 'small', \n",
    "                            'Training': '40 epochs', \n",
    "                            'Learning rate scheme': 'decay by 0.8 after 14 epochs',\n",
    "                            'Units': 200,\n",
    "                            'Layers': 1,\n",
    "                            'Iterations': 8,\n",
    "                            'Perplexity': 95.56},\n",
    "                          {'Size': 'small', \n",
    "                            'Training': '40 epochs', \n",
    "                            'Learning rate scheme': 'decay by 0.8 after 14 epochs',\n",
    "                            'Units': 200,\n",
    "                            'Layers': 1,\n",
    "                            'Iterations': 9,\n",
    "                            'Perplexity': 95.56},\n",
    "                          {'Size': 'small', \n",
    "                            'Training': '40 epochs', \n",
    "                            'Learning rate scheme': 'decay by 0.8 after 14 epochs',\n",
    "                            'Units': 200,\n",
    "                            'Layers': 1,\n",
    "                            'Iterations': 10,\n",
    "                            'Perplexity': 95.56}])"
   ]
  },
  {
   "cell_type": "code",
   "execution_count": 3,
   "metadata": {
    "collapsed": false
   },
   "outputs": [
    {
     "data": {
      "text/html": [
       "<div>\n",
       "<table border=\"1\" class=\"dataframe\">\n",
       "  <thead>\n",
       "    <tr style=\"text-align: right;\">\n",
       "      <th></th>\n",
       "      <th>Iterations</th>\n",
       "      <th>Layers</th>\n",
       "      <th>Learning rate scheme</th>\n",
       "      <th>Perplexity</th>\n",
       "      <th>Size</th>\n",
       "      <th>Training</th>\n",
       "      <th>Units</th>\n",
       "    </tr>\n",
       "  </thead>\n",
       "  <tbody>\n",
       "    <tr>\n",
       "      <th>0</th>\n",
       "      <td>1</td>\n",
       "      <td>1</td>\n",
       "      <td>decay by 0.8 after 14 epochs</td>\n",
       "      <td>95.56</td>\n",
       "      <td>small</td>\n",
       "      <td>40 epochs</td>\n",
       "      <td>200</td>\n",
       "    </tr>\n",
       "  </tbody>\n",
       "</table>\n",
       "</div>"
      ],
      "text/plain": [
       "   Iterations  Layers          Learning rate scheme  Perplexity   Size  \\\n",
       "0           1       1  decay by 0.8 after 14 epochs       95.56  small   \n",
       "\n",
       "    Training  Units  \n",
       "0  40 epochs    200  "
      ]
     },
     "execution_count": 3,
     "metadata": {},
     "output_type": "execute_result"
    }
   ],
   "source": [
    "results_df"
   ]
  }
 ],
 "metadata": {
  "kernelspec": {
   "display_name": "Python 2",
   "language": "python",
   "name": "python2"
  },
  "language_info": {
   "codemirror_mode": {
    "name": "ipython",
    "version": 2
   },
   "file_extension": ".py",
   "mimetype": "text/x-python",
   "name": "python",
   "nbconvert_exporter": "python",
   "pygments_lexer": "ipython2",
   "version": "2.7.13"
  }
 },
 "nbformat": 4,
 "nbformat_minor": 2
}
